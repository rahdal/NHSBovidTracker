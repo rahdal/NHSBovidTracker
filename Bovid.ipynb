{
 "cells": [
  {
   "cell_type": "code",
   "execution_count": 5,
   "metadata": {},
   "outputs": [],
   "source": [
    "import pandas as pd\n",
    "import matplotlib.pyplot as plt\n",
    "import os"
   ]
  },
  {
   "cell_type": "code",
   "execution_count": 6,
   "metadata": {},
   "outputs": [],
   "source": [
    "ones = {'one': 1, 'two': 2, 'three': 3, 'four': 4, 'five': 5, 'six': 6, 'seven': 7, 'eight': 8, 'nine': 9, 'ten': 10, 'eleven': 11, 'twelve': 12, 'thirteen': 13, \n",
    "        'fourteen': 14, 'fifteen': 15, 'sixteen': 16, 'seventeen': 17, 'eighteen': 18, 'nineteen': 19}\n",
    "\n",
    "tens = {'twenty': 2, 'thirty': 3, 'forty': 4, 'fifty': 5, 'sixty': 6, 'seventy': 7, 'eighty': 8, 'ninety': 9}\n"
   ]
  },
  {
   "cell_type": "code",
   "execution_count": 18,
   "metadata": {},
   "outputs": [
    {
     "name": "stdout",
     "output_type": "stream",
     "text": [
      "{'1/10': 47, '1/11': 18, '1/12': 10, '1/13': 13, '1/14': 10, '1/4': 11, '1/5': 20, '1/6': 23, '1/7': 17}\n"
     ]
    }
   ],
   "source": [
    "dates = []\n",
    "casesList = []\n",
    "\n",
    "location = 'Cases'\n",
    "directory = os.fsencode(location)\n",
    "\n",
    "intNumberofCases = 0\n",
    "\n",
    "for file in sorted(os.listdir(directory)):\n",
    "     filename = os.fsdecode(file)\n",
    "     \n",
    "     date = filename.replace('-22 NHS COVID Communication.txt', '').strip().replace('-','/')\n",
    "     dates.append(date)\n",
    "     \n",
    "     fileLocation = location + \"/\" + filename\n",
    "     \n",
    "     with open(fileLocation, encoding=\"utf8\") as f:\n",
    "        lines = f.read()\n",
    "    \n",
    "        endofCaseNumber = lines.find(\"confirmed\")\n",
    "        numberofCases = lines[228:endofCaseNumber]\n",
    "\n",
    "        if(numberofCases.find('(') != -1):\n",
    "            numberStart = numberofCases.find('(')\n",
    "            numberEnd = numberofCases.find(')')\n",
    "            intNumberofCases = int(numberofCases[numberStart+1 : numberEnd])\n",
    "            casesList.append(intNumberofCases)\n",
    "    \n",
    "        else:\n",
    "            numberofCases = numberofCases.lower().strip()\n",
    "            if numberofCases in ones:\n",
    "                casesList.append(ones[numberofCases])\n",
    "            elif numberofCases in tens:\n",
    "                casesList.append(tens[numberofCases] * 10)\n",
    "            else:\n",
    "                numberofCases = numberofCases.replace('-',' ')\n",
    "                division = numberofCases.find(' ')\n",
    "                firstPt = numberofCases[0:division].strip().lstrip()\n",
    "                secondPt = numberofCases[division:len(numberofCases)].strip().lstrip()\n",
    "                \n",
    "                intNumberofCases = int(str(tens[firstPt]) + str(ones[secondPt]))\n",
    "                casesList.append(intNumberofCases)\n",
    "                \n",
    "                \n",
    "dataDict = dict(zip(dates,casesList))\n",
    "print(dataDict)\n"
   ]
  },
  {
   "cell_type": "code",
   "execution_count": 19,
   "metadata": {},
   "outputs": [
    {
     "name": "stdout",
     "output_type": "stream",
     "text": [
      "{'1/4': 11, '1/5': 20, '1/6': 23, '1/7': 17, '1/10': 47, '1/11': 18, '1/12': 10, '1/13': 13, '1/14': 10}\n"
     ]
    }
   ],
   "source": [
    "#function for key\n",
    "def sortKey(inputdate):\n",
    "    divide = inputdate.find('/')\n",
    "    month = inputdate[0:divide]\n",
    "    day = int(inputdate[divide+1:len(inputdate)])\n",
    "    schoolMonth = {'9':1, '10':2, '11':3, '12':4,'1':5,'2':6,'3':7,'4':8,'5':9,'6':10}\n",
    "    return (schoolMonth[month]*100) + day\n",
    "    \n",
    "#sorting the dictionary by date\n",
    "sorted_dates = sorted(dataDict.items(), key = lambda date: sortKey(date[0]))\n",
    "final_dict = dict(sorted_dates)\n",
    "\n",
    "print(final_dict)"
   ]
  },
  {
   "cell_type": "code",
   "execution_count": 20,
   "metadata": {},
   "outputs": [
    {
     "name": "stdout",
     "output_type": "stream",
     "text": [
      "   Date  Cases\n",
      "0   1/4     11\n",
      "1   1/5     20\n",
      "2   1/6     23\n",
      "3   1/7     17\n",
      "4  1/10     47\n",
      "5  1/11     18\n",
      "6  1/12     10\n",
      "7  1/13     13\n",
      "8  1/14     10\n"
     ]
    }
   ],
   "source": [
    "df = pd.DataFrame(final_dict.items(), columns=['Date', 'Cases'])\n",
    "\n",
    "print(df)"
   ]
  }
 ],
 "metadata": {
  "interpreter": {
   "hash": "c151bf85f9e2f7ae427c08a33e0574137c5764a20b5f34c69ca284d03dc39d38"
  },
  "kernelspec": {
   "display_name": "Python 3.8.11 64-bit ('base': conda)",
   "language": "python",
   "name": "python3"
  },
  "language_info": {
   "codemirror_mode": {
    "name": "ipython",
    "version": 3
   },
   "file_extension": ".py",
   "mimetype": "text/x-python",
   "name": "python",
   "nbconvert_exporter": "python",
   "pygments_lexer": "ipython3",
   "version": "3.8.11"
  },
  "orig_nbformat": 4
 },
 "nbformat": 4,
 "nbformat_minor": 2
}
