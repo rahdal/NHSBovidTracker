{
 "cells": [
  {
   "cell_type": "code",
   "execution_count": 4,
   "metadata": {},
   "outputs": [],
   "source": [
    "import pandas as pd\n",
    "import matplotlib.pyplot as plt\n",
    "import os"
   ]
  },
  {
   "cell_type": "code",
   "execution_count": 24,
   "metadata": {},
   "outputs": [],
   "source": [
    "ones = {'zero': 0, '': 1, 'a' : 1, 'one': 1, 'two': 2, 'three': 3, 'four': 4, 'five': 5, 'six': 6, 'seven': 7, 'eight': 8, 'nine': 9, 'ten': 10, 'eleven': 11, 'twelve': 12, 'thirteen': 13, \n",
    "        'fourteen': 14, 'fifteen': 15, 'sixteen': 16, 'seventeen': 17, 'eighteen': 18, 'nineteen': 19}\n",
    "\n",
    "tens = {'twenty': 2, 'thirty': 3, 'forty': 4, 'fifty': 5, 'sixty': 6, 'seventy': 7, 'eighty': 8, 'ninety': 9}\n"
   ]
  },
  {
   "cell_type": "code",
   "execution_count": 25,
   "metadata": {},
   "outputs": [
    {
     "name": "stdout",
     "output_type": "stream",
     "text": [
      "{'1/10': 47, '1/11': 18, '1/12': 10, '1/13': 13, '1/14': 10, '1/18': 34, '1/19': 12, '1/20': 11, '1/21': 6, '1/24': 7, '1/25': 2, '1/26': 1, '1/27': 3, '1/28': 2, '1/31': 5, '1/4': 11, '1/5': 20, '1/6': 23, '1/7': 17, '10/1': 0, '10/11': 2, '10/12': 2, '10/13': 3, '10/14': 4, '10/15': 1, '10/18': 3, '10/19': 2, '10/20': 1, '10/21': 2, '10/22': 0, '10/25': 4, '10/26': 0, '10/27': 1, '10/28': 0, '10/29': 0, '10/4': 0, '10/5': 0, '10/6': 2, '10/7': 0, '10/8': 1, '11/1': 2, '11/10': 2, '11/11': 7, '11/12': 4, '11/15': 4, '11/16': 3, '11/17': 3, '11/18': 1, '11/19': 3, '11/22': 0, '11/23': 2, '11/24': 1, '11/29': 5, '11/3': 0, '11/30': 1, '11/4': 0, '11/5': 0, '11/8': 3, '11/9': 4, '12/1': 3, '12/10': 1, '12/13': 9, '12/14': 2, '12/15': 4, '12/16': 0, '12/17': 2, '12/2': 2, '12/3': 0, '12/6': 5, '12/7': 1, '12/8': 3, '12/9': 2, '2/1': 5, '2/10': 0, '2/11': 0, '2/14': 1, '2/15': 0, '2/16': 1, '2/17': 1, '2/18': 0, '2/2': 0, '2/21': 0, '2/22': 3, '2/23': 1, '2/24': 2, '2/25': 1, '2/28': 1, '2/3': 0, '2/4': 0, '2/7': 4, '2/8': 2, '2/9': 1, '3/1': 0, '3/10': 0, '3/11': 0, '3/14': 1, '3/2': 0, '3/3': 1, '3/4': 1, '3/7': 1, '3/8': 0, '3/9': 1, '9/10': 0, '9/13': 0, '9/14': 0, '9/15': 0, '9/16': 1, '9/17': 1, '9/20': 0, '9/21': 0, '9/22': 0, '9/23': 1, '9/24': 0, '9/27': 0, '9/28': 0, '9/29': 1, '9/30': 0, '9/7': 0, '9/8': 0, '9/9': 0}\n"
     ]
    }
   ],
   "source": [
    "dates = []\n",
    "casesList = []\n",
    "\n",
    "location = 'Cases'\n",
    "directory = os.fsencode(location)\n",
    "\n",
    "intNumberofCases = 0\n",
    "\n",
    "for file in sorted(os.listdir(directory)):\n",
    "     filename = os.fsdecode(file)\n",
    "     \n",
    "     date = filename.replace('-22 NHS COVID Communication.txt', '').replace('-21 NHS COVID Communication.txt', '').strip().replace('-','/')\n",
    "     dates.append(date)\n",
    "     \n",
    "     fileLocation = location + \"/\" + filename\n",
    "     \n",
    "     with open(fileLocation, encoding=\"utf8\") as f:\n",
    "        lines = f.read()\n",
    "    \n",
    "        endofCaseNumber = lines.find(\"confirmed\")\n",
    "        startofCaseNumber = lines.find(\"ONLY\") + 4\n",
    "        numberofCases = lines[startofCaseNumber:endofCaseNumber]\n",
    "\n",
    "        if(numberofCases.find('(') != -1):\n",
    "            numberStart = numberofCases.find('(')\n",
    "            numberEnd = numberofCases.find(')')\n",
    "            intNumberofCases = int(numberofCases[numberStart+1 : numberEnd])\n",
    "            casesList.append(intNumberofCases)\n",
    "    \n",
    "        else:\n",
    "            numberofCases = numberofCases.lower().strip()\n",
    "            if numberofCases in ones:\n",
    "                casesList.append(ones[numberofCases])\n",
    "            elif numberofCases in tens:\n",
    "                casesList.append(tens[numberofCases] * 10)\n",
    "            else:\n",
    "                numberofCases = numberofCases.replace('-',' ')\n",
    "                division = numberofCases.find(' ')\n",
    "                firstPt = numberofCases[0:division].strip().lstrip()\n",
    "                secondPt = numberofCases[division:len(numberofCases)].strip().lstrip()\n",
    "                \n",
    "                intNumberofCases = int(str(tens[firstPt]) + str(ones[secondPt]))\n",
    "                casesList.append(intNumberofCases)\n",
    "                \n",
    "                \n",
    "dataDict = dict(zip(dates,casesList))\n"
   ]
  },
  {
   "cell_type": "code",
   "execution_count": 26,
   "metadata": {},
   "outputs": [
    {
     "name": "stdout",
     "output_type": "stream",
     "text": [
      "{'9/7': 0, '9/8': 0, '9/9': 0, '9/10': 0, '9/13': 0, '9/14': 0, '9/15': 0, '9/16': 1, '9/17': 1, '9/20': 0, '9/21': 0, '9/22': 0, '9/23': 1, '9/24': 0, '9/27': 0, '9/28': 0, '9/29': 1, '9/30': 0, '10/1': 0, '10/4': 0, '10/5': 0, '10/6': 2, '10/7': 0, '10/8': 1, '10/11': 2, '10/12': 2, '10/13': 3, '10/14': 4, '10/15': 1, '10/18': 3, '10/19': 2, '10/20': 1, '10/21': 2, '10/22': 0, '10/25': 4, '10/26': 0, '10/27': 1, '10/28': 0, '10/29': 0, '11/1': 2, '11/3': 0, '11/4': 0, '11/5': 0, '11/8': 3, '11/9': 4, '11/10': 2, '11/11': 7, '11/12': 4, '11/15': 4, '11/16': 3, '11/17': 3, '11/18': 1, '11/19': 3, '11/22': 0, '11/23': 2, '11/24': 1, '11/29': 5, '11/30': 1, '12/1': 3, '12/2': 2, '12/3': 0, '12/6': 5, '12/7': 1, '12/8': 3, '12/9': 2, '12/10': 1, '12/13': 9, '12/14': 2, '12/15': 4, '12/16': 0, '12/17': 2, '1/4': 11, '1/5': 20, '1/6': 23, '1/7': 17, '1/10': 47, '1/11': 18, '1/12': 10, '1/13': 13, '1/14': 10, '1/18': 34, '1/19': 12, '1/20': 11, '1/21': 6, '1/24': 7, '1/25': 2, '1/26': 1, '1/27': 3, '1/28': 2, '1/31': 5, '2/1': 5, '2/2': 0, '2/3': 0, '2/4': 0, '2/7': 4, '2/8': 2, '2/9': 1, '2/10': 0, '2/11': 0, '2/14': 1, '2/15': 0, '2/16': 1, '2/17': 1, '2/18': 0, '2/21': 0, '2/22': 3, '2/23': 1, '2/24': 2, '2/25': 1, '2/28': 1, '3/1': 0, '3/2': 0, '3/3': 1, '3/4': 1, '3/7': 1, '3/8': 0, '3/9': 1, '3/10': 0, '3/11': 0, '3/14': 1}\n"
     ]
    }
   ],
   "source": [
    "#function for key\n",
    "def sortKey(inputdate):\n",
    "    divide = inputdate.find('/')\n",
    "    month = inputdate[0:divide]\n",
    "    day = int(inputdate[divide+1:len(inputdate)])\n",
    "    schoolMonth = {'9':1, '10':2, '11':3, '12':4,'1':5,'2':6,'3':7,'4':8,'5':9,'6':10}\n",
    "    return (schoolMonth[month]*100) + day\n",
    "    \n",
    "#sorting the dictionary by date\n",
    "sorted_dates = sorted(dataDict.items(), key = lambda date: sortKey(date[0]))\n",
    "final_dict = dict(sorted_dates)\n",
    "\n"
   ]
  },
  {
   "cell_type": "code",
   "execution_count": 27,
   "metadata": {},
   "outputs": [
    {
     "name": "stdout",
     "output_type": "stream",
     "text": [
      "     Date  Cases\n",
      "0     9/7      0\n",
      "1     9/8      0\n",
      "2     9/9      0\n",
      "3    9/10      0\n",
      "4    9/13      0\n",
      "..    ...    ...\n",
      "115   3/8      0\n",
      "116   3/9      1\n",
      "117  3/10      0\n",
      "118  3/11      0\n",
      "119  3/14      1\n",
      "\n",
      "[120 rows x 2 columns]\n"
     ]
    }
   ],
   "source": [
    "df = pd.DataFrame(final_dict.items(), columns=['Date', 'Cases'])\n",
    "\n"
   ]
  }
 ],
 "metadata": {
  "interpreter": {
   "hash": "c151bf85f9e2f7ae427c08a33e0574137c5764a20b5f34c69ca284d03dc39d38"
  },
  "kernelspec": {
   "display_name": "Python 3.8.11 64-bit ('base': conda)",
   "language": "python",
   "name": "python3"
  },
  "language_info": {
   "codemirror_mode": {
    "name": "ipython",
    "version": 3
   },
   "file_extension": ".py",
   "mimetype": "text/x-python",
   "name": "python",
   "nbconvert_exporter": "python",
   "pygments_lexer": "ipython3",
   "version": "3.8.11"
  },
  "orig_nbformat": 4
 },
 "nbformat": 4,
 "nbformat_minor": 2
}
